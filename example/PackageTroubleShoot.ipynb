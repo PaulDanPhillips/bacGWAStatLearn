{
 "cells": [
  {
   "cell_type": "code",
   "execution_count": null,
   "metadata": {},
   "outputs": [
    {
     "ename": "",
     "evalue": "",
     "output_type": "error",
     "traceback": [
      "\u001b[1;31mFailed to start the Kernel. \n",
      "\u001b[1;31mThe 'AUTO_bacGWAStatLearn' kernel is not available. Please pick another suitable kernel instead, or install that kernel. \n",
      "\u001b[1;31mView Jupyter <a href='command:jupyter.viewOutput'>log</a> for further details."
     ]
    }
   ],
   "source": [
    "import pandas as pd\n",
    "from bacGWAStatLearn.TreeTune.ClassTuning import Tuning\n",
    "from bacGWAStatLearn.FeatureSelect.ClassFeatureSelection import FeatSelection\n",
    "import os\n",
    "import pickle\n",
    "from joblib import Parallel, delayed"
   ]
  },
  {
   "cell_type": "code",
   "execution_count": null,
   "metadata": {},
   "outputs": [],
   "source": [
    "parentDIR = os.getcwd()\n",
    "numCores = -1#os.cpu_count()\n",
    "print(os.cpu_count(), numCores)\n",
    "TuneObj = Tuning()\n",
    "X, Y, n_splits, class_weight =TuneObj.XY_index(X='/Users/paulmacos/Desktop/GWASgit/example/BorutaOUT_1.00.05_RF/BorutaOUT/RF_FinalFeatureMatrix_BorutaSelected_Sim1.txt', Y='/Users/paulmacos/Desktop/GWASgit/example/BalancedArbitrary_Response_1.txt', BacGWASim=False)\n",
    "# RAND=np.random.RandomState(4)\n",
    "print((X.shape))\n",
    "print((Y.shape))\n",
    "print((Y.value_counts()))"
   ]
  },
  {
   "cell_type": "code",
   "execution_count": null,
   "metadata": {},
   "outputs": [],
   "source": [
    "with open('/Users/paulmacos/Desktop/GWASgit/example/BorutaOUT_1.00.05_RF/TuningOUT_RF/RFOptimal_Tuning2_Sim1.pickle', 'rb') as filehandle:\n",
    "    RFoptimal=pickle.load(filehandle)\n",
    "# RFoptimal = pickle.load('TuningOUT/RFOptimal_Tuning2_'+options.sim+'.pickle')\n",
    "\n",
    "\n",
    "# RankedFeats.sort_values(0, ascending=False, key=abs, inplace=True)\n",
    "\n",
    "# if not os.path.isdir('FinalFeatures_RF'):\n",
    "#     os.makedirs(\"FinalFeatures_RF\")\n",
    "# os.chdir(\"FinalFeatures_RF\")\n",
    "NewNASPobj = FeatSelection(repeat=4)\n",
    "\n"
   ]
  },
  {
   "cell_type": "code",
   "execution_count": null,
   "metadata": {},
   "outputs": [],
   "source": [
    "FI = Parallel(n_jobs=numCores,  backend=\"loky\", prefer='processes' )(delayed(NewNASPobj.FeatImp)(RFoptimal, X, Y, rand=i,) for i in range(NewNASPobj.repeat))\n",
    "FI = pd.concat(FI)\n",
    "FI=FI.reset_index().groupby('index', as_index=True).mean().sort_values(0,ascending=False)\n",
    "FI.index.rename('variant', inplace=True)\n",
    "FI.to_csv('FeatureImportance_Ranked_Sim1.out', sep='\\t')\n",
    "\n",
    "# SHAPdata =  Parallel(n_jobs=numCores, backend='loky', prefer='processes' )(delayed(NewNASPobj.SHAPscores)(RFoptimal, X, Y,rand=i,)for i in range(NewNASPobj.repeat))\n",
    "# SHAPster = pd.concat(SHAPdata).groupby('variant', as_index=False).mean().sort_values('mean', key=abs, ascending=False).reset_index(drop=True)\n",
    "# SHAPster.to_csv('SHAPster_Ranked_Sim1.out', sep='\\t')\n",
    "\n",
    "\n",
    "PI = Parallel(n_jobs=numCores, backend=\"loky\", prefer='processes' )(delayed(NewNASPobj.PermImp)(RFoptimal, X, Y,5, scorer='balanced_accuracy', rand=i, ) for i in range(NewNASPobj.repeat))\n",
    "PI = pd.concat(PI)\n",
    "PI=PI.reset_index().groupby('index', as_index=True).mean().sort_values(0,ascending=False)\n",
    "PI.index.rename('variant', inplace=True)\n",
    "PI.to_csv('PermutationImportance_Ranked_Sim1.out', sep='\\t')"
   ]
  }
 ],
 "metadata": {
  "kernelspec": {
   "display_name": "bacGWAStatLearn-conda-env",
   "language": "python",
   "name": "AUTO_bacGWAStatLearn"
  },
  "orig_nbformat": 4,
  "vscode": {
   "interpreter": {
    "hash": "cf8fc8e993f99b808e9b61faecb42f0c7281175bc82329fe1ae6d018eab372ee"
   }
  }
 },
 "nbformat": 4,
 "nbformat_minor": 2
}
